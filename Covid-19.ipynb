{
 "cells": [
  {
   "cell_type": "markdown",
   "metadata": {
    "slideshow": {
     "slide_type": "slide"
    }
   },
   "source": [
    "### Covid-19 Live Data\n",
    "<img src=\"qualitrolcorp.png\" alt=\"covid-19_qualitrolcorp\" width=\"500\"/>"
   ]
  },
  {
   "cell_type": "code",
   "execution_count": null,
   "metadata": {
    "slideshow": {
     "slide_type": "slide"
    }
   },
   "outputs": [],
   "source": [
    "import pandas as pd\n",
    "import numpy as np\n",
    "import matplotlib.pyplot as plt\n",
    "\n",
    "%matplotlib inline\n",
    "\n",
    "allData = pd.read_excel(\"https://www.ecdc.europa.eu/sites/default/files/documents/COVID-19-geographic-disbtribution-worldwide.xlsx\")\n",
    "\n",
    "allData.head()"
   ]
  },
  {
   "cell_type": "markdown",
   "metadata": {
    "slideshow": {
     "slide_type": "slide"
    }
   },
   "source": [
    "#### Filtering Criteria"
   ]
  },
  {
   "cell_type": "code",
   "execution_count": null,
   "metadata": {
    "slideshow": {
     "slide_type": "slide"
    }
   },
   "outputs": [],
   "source": [
    "# List of countries\n",
    "\n",
    "print(allData.countriesAndTerritories.unique())"
   ]
  },
  {
   "cell_type": "code",
   "execution_count": null,
   "metadata": {
    "slideshow": {
     "slide_type": "slide"
    }
   },
   "outputs": [],
   "source": [
    "userCountry = input(\"\\nchoose a country: \")\n",
    "\n",
    "filtered_df = allData.loc[allData['countriesAndTerritories'] == userCountry] #region filter\n",
    "\n",
    "filtered_df.head()"
   ]
  },
  {
   "cell_type": "code",
   "execution_count": null,
   "metadata": {
    "slideshow": {
     "slide_type": "skip"
    }
   },
   "outputs": [],
   "source": [
    "filtered_df.dtypes"
   ]
  },
  {
   "cell_type": "markdown",
   "metadata": {
    "slideshow": {
     "slide_type": "slide"
    }
   },
   "source": [
    "### Plotting"
   ]
  },
  {
   "cell_type": "code",
   "execution_count": null,
   "metadata": {
    "slideshow": {
     "slide_type": "subslide"
    }
   },
   "outputs": [],
   "source": [
    "# config\n",
    "from datetime import datetime as dt\n",
    "\n",
    "plot_df=filtered_df # copy just for plotting\n",
    "\n",
    "#change to simpler date format, dont need year\n",
    "plot_df['dateRep'] = plot_df['dateRep'].dt.strftime('%d-%b')\n",
    "#sortindex in descending order so that x-axes moves eft to right from historic to present\n",
    "plot_df=plot_df.sort_index(axis=0, ascending=False)\n",
    "#set date as new index for plotting\n",
    "plot_df=plot_df.set_index('dateRep')\n",
    "\n",
    "x1 = plot_df.index\n",
    "x2 = plot_df.index\n",
    "y1 = plot_df[[\"cases\"]]\n",
    "y2 = plot_df[[\"deaths\"]]\n",
    "\n",
    "from matplotlib.ticker import (MultipleLocator, FormatStrFormatter,\n",
    "                               AutoMinorLocator)"
   ]
  },
  {
   "cell_type": "code",
   "execution_count": null,
   "metadata": {
    "slideshow": {
     "slide_type": "slide"
    }
   },
   "outputs": [],
   "source": [
    "fig, axes = plt.subplots(nrows=1, ncols=2, figsize=(12, 5))\n",
    "\n",
    "axes[0].plot(x1, y1,color='b')\n",
    "axes[1].plot(x2, y2,color='r')\n",
    "axes[0].xaxis.set_major_locator(MultipleLocator(14))\n",
    "axes[1].xaxis.set_major_locator(MultipleLocator(14))\n",
    "\n",
    "axes[0].set_title('Cases (latest: ' + str(plot_df[\"cases\"][-1]) + ')')\n",
    "axes[1].set_title('Deaths (latest: ' + str(plot_df[\"deaths\"][-1]) + ')')\n",
    "\n",
    "fig.suptitle(userCountry, fontsize=16)\n",
    "fig.tight_layout()\n",
    "\n"
   ]
  },
  {
   "cell_type": "code",
   "execution_count": null,
   "metadata": {
    "slideshow": {
     "slide_type": "skip"
    }
   },
   "outputs": [],
   "source": [
    "#set MonthYear as index\n",
    "#filtered_df.set_index('dateRep', inplace=True)\n",
    "\n",
    "#plot cases and deaths\n",
    "\n",
    "fig = plt.figure(figsize=(12,8))\n",
    "\n",
    "fig.suptitle('Covd-19 latest cases and deaths distribution: ' , fontsize=12)\n",
    "\n",
    "ax1 = fig.add_subplot(111)\n",
    "ax1.plot(filtered_df[\"cases\"],label=\"Cases\")\n",
    "ax2 = ax1.twinx()\n",
    "ax2.plot(filtered_df[\"deaths\"], color='r',label=\"Deaths\")\n",
    "\n",
    "ax1.set_ylabel('Cases', fontsize=12 )\n",
    "ax2.set_ylabel('Deaths', fontsize=12)\n",
    "\n",
    "fig.legend(loc='best')"
   ]
  },
  {
   "cell_type": "code",
   "execution_count": null,
   "metadata": {
    "slideshow": {
     "slide_type": "skip"
    }
   },
   "outputs": [],
   "source": [
    "#alternative (basic)\n",
    "\n",
    "#filter plot data only\n",
    "plot_df=filtered_df[[ \"cases\",\"deaths\"]]\n",
    "plot_df.head()\n",
    "\n",
    "ax = plot_df.plot(figsize=(14,6), lw=2, style='k-')"
   ]
  },
  {
   "cell_type": "code",
   "execution_count": null,
   "metadata": {
    "scrolled": true,
    "slideshow": {
     "slide_type": "skip"
    }
   },
   "outputs": [],
   "source": [
    "#alternative (side by side)\n",
    "\n",
    "#filter plot data only\n",
    "plot_cases=filtered_df[[\"cases\"]]\n",
    "plot_deaths=filtered_df[[\"deaths\"]]\n",
    "\n",
    "plot_cases.plot(figsize=(6,4), color='b', lw=2)\n",
    "plot_deaths.plot(figsize=(6,4), color='r', lw=2)"
   ]
  }
 ],
 "metadata": {
  "celltoolbar": "Slideshow",
  "kernelspec": {
   "display_name": "Python 3",
   "language": "python",
   "name": "python3"
  },
  "language_info": {
   "codemirror_mode": {
    "name": "ipython",
    "version": 3
   },
   "file_extension": ".py",
   "mimetype": "text/x-python",
   "name": "python",
   "nbconvert_exporter": "python",
   "pygments_lexer": "ipython3",
   "version": "3.7.4"
  },
  "rise": {
   "autolaunch": true,
   "enable_chalkboard": true,
   "theme": "solarized"
  }
 },
 "nbformat": 4,
 "nbformat_minor": 2
}
